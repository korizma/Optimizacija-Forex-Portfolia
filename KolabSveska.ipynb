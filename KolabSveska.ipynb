{
  "nbformat": 4,
  "nbformat_minor": 0,
  "metadata": {
    "colab": {
      "provenance": []
    },
    "kernelspec": {
      "name": "python3",
      "display_name": "Python 3"
    },
    "language_info": {
      "name": "python"
    }
  },
  "cells": [
    {
      "cell_type": "code",
      "execution_count": null,
      "metadata": {
        "id": "0yDDDXjGEn-3"
      },
      "outputs": [],
      "source": [
        "import pandas as pd\n",
        "import numpy as np\n",
        "import matplotlib.pyplot as plt\n",
        "\n",
        "import scipy.stats as st\n",
        "import scipy.optimize as sco\n",
        "import MCF_PETNICA as mp"
      ]
    },
    {
      "cell_type": "code",
      "source": [
        "filenames = ['AUDUSD_D1.xlsx', 'BTCUSD_D1.xlsx', 'ETHUSD_D1.xlsx', 'EURUSD_D1.xlsx', 'GBPUSD_D1.xlsx', 'NZDUSD_D1.xlsx', 'USDCAD_D1.xlsx', 'USDCHF_D1.xlsx', 'USDJPY_D1.xlsx', 'XAGUSD_D1.xlsx', 'XAUUSD_D1.xlsx', ]\n",
        "\n",
        "header = []\n",
        "data = []\n",
        "for name in filenames:\n",
        "  data.append(pd.read_excel(name))\n",
        "\n"
      ],
      "metadata": {
        "id": "xA9wBYLDE7YQ"
      },
      "execution_count": null,
      "outputs": []
    },
    {
      "cell_type": "code",
      "source": [
        "import pandas as pd\n",
        "\n",
        "filenames = ['AUDUSD_D1.xlsx', 'BTCUSD_D1.xlsx', 'ETHUSD_D1.xlsx', 'EURUSD_D1.xlsx', 'GBPUSD_D1.xlsx', 'NZDUSD_D1.xlsx', 'USDCAD_D1.xlsx', 'USDCHF_D1.xlsx', 'USDJPY_D1.xlsx', 'XAGUSD_D1.xlsx', 'XAUUSD_D1.xlsx', ]\n",
        "\n",
        "\n",
        "all_data = []\n",
        "\n",
        "for name in filenames:\n",
        "    df = pd.read_excel(name)\n",
        "    if 'USD_' in name:\n",
        "      df['Close']  = 1/df['Close']\n",
        "      df['Open'] = 1/df['Open']\n",
        "    df['Price'] = (df['Close'] - df['Open']) / df['Open']\n",
        "    df = df[['Time', 'Price']]\n",
        "    df.rename(columns={'Price': name.split('.')[0]}, inplace=True)\n",
        "    all_data.append(df)\n",
        "\n",
        "# Merging all dataframes on 'Date'\n",
        "merged_data = all_data[0]\n",
        "for df in all_data[1:]:\n",
        "    merged_data = pd.merge(merged_data, df, on='Time', how='outer')\n",
        "\n",
        "# Display the combined data\n",
        "merged_data = merged_data.dropna()\n",
        "# print(merged_data)\n"
      ],
      "metadata": {
        "id": "n8t0TfTPHmqv"
      },
      "execution_count": null,
      "outputs": []
    },
    {
      "cell_type": "code",
      "source": [
        "retM = merged_data.drop(\"Time\", axis = 'columns')"
      ],
      "metadata": {
        "id": "u4gpFXiix_kA"
      },
      "execution_count": null,
      "outputs": []
    },
    {
      "cell_type": "code",
      "source": [
        "criterium = lambda w: mp.pV(w,retM)\n",
        "start_portfolio = [ 1/11 ] * 11\n",
        "granice = [ (0,1) ] * 11\n",
        "\n",
        "result=sco.minimize(criterium, start_portfolio,constraints=[dict(type='eq',fun=lambda w:sum(w)-1)], bounds = granice)\n",
        "result.x"
      ],
      "metadata": {
        "id": "F_snga--x-pH",
        "colab": {
          "base_uri": "https://localhost:8080/"
        },
        "outputId": "cd102262-930a-4b94-e263-7a829eccf1b6"
      },
      "execution_count": null,
      "outputs": [
        {
          "output_type": "execute_result",
          "data": {
            "text/plain": [
              "array([1.99965326e-17, 0.00000000e+00, 0.00000000e+00, 1.69516038e-01,\n",
              "       2.08166817e-17, 2.07475249e-17, 3.79551235e-01, 1.96788409e-01,\n",
              "       2.54144318e-01, 0.00000000e+00, 2.15389291e-17])"
            ]
          },
          "metadata": {},
          "execution_count": 6
        }
      ]
    },
    {
      "cell_type": "code",
      "source": [
        "print(f\"Risk {mp.pV(result.x, retM)}, Expected Profit: {mp.per(result.x, retM)}\")"
      ],
      "metadata": {
        "colab": {
          "base_uri": "https://localhost:8080/"
        },
        "id": "ErVBayGUzCZL",
        "outputId": "91e09a8e-aa72-4c8a-e7b1-5e9878f3e0f2"
      },
      "execution_count": null,
      "outputs": [
        {
          "output_type": "stream",
          "name": "stdout",
          "text": [
            "Risk 0.0025080503887368708, Expected Profit: 0.0200915025620585\n"
          ]
        }
      ]
    },
    {
      "cell_type": "code",
      "source": [
        "criterium = lambda w: - mp.per(w, retM) / np.sqrt(mp.pV(w,retM))\n",
        "start_portfolio = [ 1/11 ] * 11\n",
        "granice = [ (0,1) ] * 11\n",
        "\n",
        "result_sharpe=sco.minimize(criterium, start_portfolio,constraints=[dict(type='eq',fun=lambda w:sum(w)-1)], bounds = granice)\n",
        "result_sharpe.x"
      ],
      "metadata": {
        "colab": {
          "base_uri": "https://localhost:8080/"
        },
        "id": "5ia-hvsKccND",
        "outputId": "fd8782fd-97bf-4cf3-ba1d-91dcb171dc11"
      },
      "execution_count": null,
      "outputs": [
        {
          "output_type": "execute_result",
          "data": {
            "text/plain": [
              "array([0.00000000e+00, 0.00000000e+00, 4.06003156e-02, 0.00000000e+00,\n",
              "       2.23754664e-16, 1.97191578e-16, 3.58061942e-02, 0.00000000e+00,\n",
              "       9.23593490e-01, 0.00000000e+00, 3.32165504e-16])"
            ]
          },
          "metadata": {},
          "execution_count": 8
        }
      ]
    },
    {
      "cell_type": "code",
      "source": [
        "print(f\"Risk {mp.pV(result_sharpe.x, retM)}, Expected Profit: {mp.per(result_sharpe.x, retM)}\")"
      ],
      "metadata": {
        "colab": {
          "base_uri": "https://localhost:8080/"
        },
        "id": "b77Y7rZf44QW",
        "outputId": "77751a37-3357-4c93-d57f-061200c4570f"
      },
      "execution_count": null,
      "outputs": [
        {
          "output_type": "stream",
          "name": "stdout",
          "text": [
            "Risk 0.006130792990536765, Expected Profit: 0.0581718571658748\n"
          ]
        }
      ]
    },
    {
      "cell_type": "code",
      "source": [
        "criterium = lambda w: - mp.per(w, retM)\n",
        "start_portfolio = [ 1/11 ] * 11\n",
        "granice = [ (0,1) ] * 11\n",
        "\n",
        "result_profit_max=sco.minimize(criterium, start_portfolio,constraints=[dict(type='eq',fun=lambda w:sum(w)-1)], bounds = granice)\n",
        "result_profit_max.x"
      ],
      "metadata": {
        "colab": {
          "base_uri": "https://localhost:8080/"
        },
        "id": "7DRywcZIc-N1",
        "outputId": "4fa1e65a-83b3-4656-eeff-f732e9d84b5c"
      },
      "execution_count": null,
      "outputs": [
        {
          "output_type": "execute_result",
          "data": {
            "text/plain": [
              "array([0.00000000e+00, 9.71445147e-17, 1.00000000e+00, 0.00000000e+00,\n",
              "       0.00000000e+00, 0.00000000e+00, 0.00000000e+00, 0.00000000e+00,\n",
              "       0.00000000e+00, 0.00000000e+00, 0.00000000e+00])"
            ]
          },
          "metadata": {},
          "execution_count": 10
        }
      ]
    },
    {
      "cell_type": "code",
      "source": [
        "print(f\"Risk {mp.pV(result_profit_max.x, retM)}, Expected Profit: {mp.per(result_profit_max.x, retM)}\")"
      ],
      "metadata": {
        "colab": {
          "base_uri": "https://localhost:8080/"
        },
        "id": "SddtAVZB3-cE",
        "outputId": "4f74ec84-16fb-4ef0-8261-f6bf8fa544e7"
      },
      "execution_count": null,
      "outputs": [
        {
          "output_type": "stream",
          "name": "stdout",
          "text": [
            "Risk 0.6370975461864719, Expected Profit: 0.2608808502783416\n"
          ]
        }
      ]
    },
    {
      "cell_type": "code",
      "source": [
        "criterium = lambda w: - mp.per(w, retM) + mp.pV(w, retM)\n",
        "start_portfolio = [ 1/11 ] * 11\n",
        "granice = [ (0,1) ] * 11\n",
        "\n",
        "result_maxp_minv=sco.minimize(criterium, start_portfolio,constraints=[dict(type='eq',fun=lambda w:sum(w)-1)], bounds = granice)\n",
        "result_maxp_minv.x"
      ],
      "metadata": {
        "colab": {
          "base_uri": "https://localhost:8080/"
        },
        "id": "rcw7DN4_fDyx",
        "outputId": "1ee1e574-6207-4cae-838f-5d6383abef28"
      },
      "execution_count": null,
      "outputs": [
        {
          "output_type": "execute_result",
          "data": {
            "text/plain": [
              "array([3.20126960e-17, 2.97755374e-16, 1.70743220e-01, 1.65128697e-16,\n",
              "       0.00000000e+00, 2.07907530e-16, 3.18771898e-16, 0.00000000e+00,\n",
              "       8.29256780e-01, 2.07523958e-16, 1.98034086e-16])"
            ]
          },
          "metadata": {},
          "execution_count": 12
        }
      ]
    },
    {
      "cell_type": "code",
      "source": [
        "print(f\"Risk {mp.pV(result_maxp_minv.x, retM)}, Expected Profit: {mp.per(result_maxp_minv.x, retM)}\")"
      ],
      "metadata": {
        "colab": {
          "base_uri": "https://localhost:8080/"
        },
        "id": "XI-UGpPnfDjM",
        "outputId": "9d6991de-8797-437f-d7dc-e5f302c07d40"
      },
      "execution_count": null,
      "outputs": [
        {
          "output_type": "stream",
          "name": "stdout",
          "text": [
            "Risk 0.0229000260432247, Expected Profit: 0.08685768912848649\n"
          ]
        }
      ]
    },
    {
      "cell_type": "code",
      "source": [
        "def get_good_dict(portfolio: list, currencies: list):\n",
        "  df_portfolio = dict()\n",
        "  for weight, currency in zip(portfolio, currencies):\n",
        "    if weight < 1e-10:\n",
        "      weight = 0\n",
        "    elif weight > 1 - 1e-10:\n",
        "      weight = 1\n",
        "    df_portfolio[currency] = weight\n",
        "\n",
        "  return df_portfolio"
      ],
      "metadata": {
        "id": "gVeWRGkJ5WCn"
      },
      "execution_count": null,
      "outputs": []
    },
    {
      "cell_type": "code",
      "source": [
        "currencies = merged_data.columns[1:]"
      ],
      "metadata": {
        "id": "XGTb60Dzdk2h"
      },
      "execution_count": null,
      "outputs": []
    },
    {
      "cell_type": "code",
      "source": [
        "portfolio = get_good_dict(result_maxp_minv.x, currencies)\n",
        "for x in portfolio:\n",
        "  print(x, portfolio[x])"
      ],
      "metadata": {
        "colab": {
          "base_uri": "https://localhost:8080/"
        },
        "id": "X9sQB44RdqO6",
        "outputId": "3b6da296-254c-4f6b-90b0-3de7788ffd8b"
      },
      "execution_count": null,
      "outputs": [
        {
          "output_type": "stream",
          "name": "stdout",
          "text": [
            "AUDUSD_D1 0\n",
            "BTCUSD_D1 0\n",
            "ETHUSD_D1 0.1707432199013493\n",
            "EURUSD_D1 0\n",
            "GBPUSD_D1 0\n",
            "NZDUSD_D1 0\n",
            "USDCAD_D1 0\n",
            "USDCHF_D1 0\n",
            "USDJPY_D1 0.8292567800986493\n",
            "XAGUSD_D1 0\n",
            "XAUUSD_D1 0\n"
          ]
        }
      ]
    },
    {
      "cell_type": "code",
      "source": [
        "def exchange_from_usd(portfolio: dict, rates, budget):\n",
        "  portfolio = np.array(list(portfolio.values())) * budget\n",
        "  return portfolio * rates"
      ],
      "metadata": {
        "id": "wo4ARrKOe4f-"
      },
      "execution_count": null,
      "outputs": []
    },
    {
      "cell_type": "code",
      "source": [
        "def exchange_to_usd(money, rates):\n",
        "  money = np.array(money)\n",
        "  return np.sum(money / rates)"
      ],
      "metadata": {
        "id": "ZjkOdwKTfzvp"
      },
      "execution_count": null,
      "outputs": []
    },
    {
      "cell_type": "code",
      "source": [
        "def get_rates(df, day):\n",
        "  rates = []\n",
        "  for valuta in df:\n",
        "    rates.append(valuta.iloc[-1]['Closed'])\n",
        "  return rates\n"
      ],
      "metadata": {
        "id": "1F1AALPygACQ"
      },
      "execution_count": null,
      "outputs": []
    },
    {
      "cell_type": "code",
      "source": [
        "exchange_rate_30724 = {\n",
        "    \"AUD\": 1/0.65456,\n",
        "    \"BTC\": 1/66568.2,\n",
        "    \"ETH\": 1/3333.5,\n",
        "    \"EUR\": 1/1.08317,\n",
        "    \"GBP\": 1/1.28618,\n",
        "    \"NZD\": 1/0.5895,\n",
        "    \"CAD\": 1/1.38424,\n",
        "    \"CHF\":  0.88581,\n",
        "    \"JPY\":  154.809,\n",
        "    \"XAG\":  27.806,\n",
        "    \"XAU\": 1/2389.025,\n",
        "}"
      ],
      "metadata": {
        "id": "sZjgwTvQ0-dc"
      },
      "execution_count": null,
      "outputs": []
    },
    {
      "cell_type": "code",
      "source": [
        "exchange_rate_7824 = {\n",
        "    \"AUD\": 1/0.65172,\n",
        "    \"BTC\": 1/54770.6,\n",
        "    \"ETH\": 1/2365.6,\n",
        "    \"EUR\": 1/1.09221,\n",
        "    \"GBP\": 1/1.26838,\n",
        "    \"NZD\": 1/0.59953,\n",
        "    \"CAD\": 1/1.37458,\n",
        "    \"CHF\":  0.86174,\n",
        "    \"JPY\":  146.841,\n",
        "    \"XAG\":  26.61,\n",
        "    \"XAU\": 1/2386.125,\n",
        "}"
      ],
      "metadata": {
        "id": "Q27m67w33D-V"
      },
      "execution_count": null,
      "outputs": []
    },
    {
      "cell_type": "code",
      "source": [
        "def invest_portfolio(portfolio, budget, invest_date, sell_date, df):\n",
        "  invest_rate = list(exchange_rate_30724.values())\n",
        "  sell_rate = list(exchange_rate_7824.values())\n",
        "\n",
        "  bought_currencies = exchange_from_usd(portfolio, invest_rate, budget)\n",
        "  investment_return = exchange_to_usd(bought_currencies, sell_rate)\n",
        "\n",
        "  profit = investment_return - budget\n",
        "  return_percent = profit/budget\n",
        "\n",
        "  return investment_return, profit, return_percent"
      ],
      "metadata": {
        "id": "qbRSKjC9gSYR"
      },
      "execution_count": null,
      "outputs": []
    },
    {
      "cell_type": "code",
      "source": [
        "filenames = ['AUDUSD_D1.csv', 'BTCUSD_D1.csv', 'ETHUSD_D1.csv', 'EURUSD_D1.csv', 'GBPUSD_D1.csv', 'NZDUSD_D1.csv', 'USDCAD_D1.csv', 'USDCHF_D1.csv', 'USDJPY_D1.csv', 'XAGUSD_D1.csv', 'XAUUSD_D1.csv', ]\n",
        "\n",
        "header = []\n",
        "data = []\n",
        "for name in filenames:\n",
        "  data.append(pd.read_csv(name, sep='\\t'))\n"
      ],
      "metadata": {
        "id": "CmkerBAXhSWg"
      },
      "execution_count": null,
      "outputs": []
    },
    {
      "cell_type": "code",
      "source": [
        "def print_portfolio(portfolio):\n",
        "  for x in portfolio:\n",
        "    print(x, portfolio[x])"
      ],
      "metadata": {
        "id": "gObutnPgF1Gn"
      },
      "execution_count": null,
      "outputs": []
    },
    {
      "cell_type": "code",
      "source": [
        "portfolio_sharpe = get_good_dict(result_sharpe.x, currencies)"
      ],
      "metadata": {
        "id": "7gOVWSaG4_-j"
      },
      "execution_count": null,
      "outputs": []
    },
    {
      "cell_type": "code",
      "source": [
        "print(invest_portfolio(portfolio_sharpe, 1000, '7/30/24', '8/5/24', data))\n",
        "print_portfolio(portfolio_sharpe)\n",
        "print(f\"Risk {mp.pV(result_sharpe.x, retM)}, Expected Profit: {mp.per(result_sharpe.x, retM)}\")"
      ],
      "metadata": {
        "colab": {
          "base_uri": "https://localhost:8080/"
        },
        "id": "FHLRbFaZh77L",
        "outputId": "ec4d1b3d-08a8-4cc6-eff2-ff13b5305e00"
      },
      "execution_count": null,
      "outputs": [
        {
          "output_type": "stream",
          "name": "stdout",
          "text": [
            "(1038.078344997692, 38.07834499769206, 0.038078344997692054)\n",
            "AUDUSD_D1 0\n",
            "BTCUSD_D1 0\n",
            "ETHUSD_D1 0.04060031562752621\n",
            "EURUSD_D1 0\n",
            "GBPUSD_D1 0\n",
            "NZDUSD_D1 0\n",
            "USDCAD_D1 0.035806194176242395\n",
            "USDCHF_D1 0\n",
            "USDJPY_D1 0.9235934901962315\n",
            "XAGUSD_D1 0\n",
            "XAUUSD_D1 0\n",
            "Risk 0.006130792990536765, Expected Profit: 0.0581718571658748\n"
          ]
        }
      ]
    },
    {
      "cell_type": "code",
      "source": [
        "portfolio_min_risk = get_good_dict(result.x, currencies)\n",
        "print(invest_portfolio(portfolio_min_risk, 1000, '7/30/24', '8/5/24', data))\n",
        "print_portfolio(portfolio_min_risk)\n",
        "print(f\"Risk {mp.pV(result.x, retM)}, Expected Profit: {mp.per(result.x, retM)}\")"
      ],
      "metadata": {
        "colab": {
          "base_uri": "https://localhost:8080/"
        },
        "id": "gtl9vKubE4Ma",
        "outputId": "daee0bd2-416a-4b27-d739-f93eea3a7169"
      },
      "execution_count": null,
      "outputs": [
        {
          "output_type": "stream",
          "name": "stdout",
          "text": [
            "(1018.0532806426618, 18.053280642661775, 0.018053280642661776)\n",
            "AUDUSD_D1 0\n",
            "BTCUSD_D1 0\n",
            "ETHUSD_D1 0\n",
            "EURUSD_D1 0.1695160379180731\n",
            "GBPUSD_D1 0\n",
            "NZDUSD_D1 0\n",
            "USDCAD_D1 0.3795512352012316\n",
            "USDCHF_D1 0.19678840869529818\n",
            "USDJPY_D1 0.2541443181853972\n",
            "XAGUSD_D1 0\n",
            "XAUUSD_D1 0\n",
            "Risk 0.0025080503887368708, Expected Profit: 0.0200915025620585\n"
          ]
        }
      ]
    },
    {
      "cell_type": "code",
      "source": [
        "portfolio_max_profit = get_good_dict(result_profit_max.x, currencies)\n",
        "print(invest_portfolio(portfolio_max_profit, 1000, '7/30/24', '8/5/24', data))\n",
        "print_portfolio(portfolio_max_profit)\n",
        "print(f\"Risk {mp.pV(result_profit_max.x, retM)}, Expected Profit: {mp.per(result_profit_max.x, retM)}\")"
      ],
      "metadata": {
        "colab": {
          "base_uri": "https://localhost:8080/"
        },
        "id": "8I6kJajmE2-2",
        "outputId": "6a9a320d-965f-4587-9fd4-c46c5e385e6a"
      },
      "execution_count": null,
      "outputs": [
        {
          "output_type": "stream",
          "name": "stdout",
          "text": [
            "(709.6445177741111, -290.35548222588886, -0.29035548222588886)\n",
            "AUDUSD_D1 0\n",
            "BTCUSD_D1 0\n",
            "ETHUSD_D1 1\n",
            "EURUSD_D1 0\n",
            "GBPUSD_D1 0\n",
            "NZDUSD_D1 0\n",
            "USDCAD_D1 0\n",
            "USDCHF_D1 0\n",
            "USDJPY_D1 0\n",
            "XAGUSD_D1 0\n",
            "XAUUSD_D1 0\n",
            "Risk 0.6370975461864719, Expected Profit: 0.2608808502783416\n"
          ]
        }
      ]
    },
    {
      "cell_type": "code",
      "source": [
        "portfolio_maxp_minv = get_good_dict(result_maxp_minv.x, currencies)\n",
        "print(invest_portfolio(portfolio_maxp_minv, 1000, '7/30/24', '8/5/24', data))\n",
        "print_portfolio(portfolio_maxp_minv)\n",
        "print(f\"Risk {mp.pV(result_maxp_minv.x, retM)}, Expected Profit: {mp.per(result_maxp_minv.x, retM)}\")"
      ],
      "metadata": {
        "colab": {
          "base_uri": "https://localhost:8080/"
        },
        "id": "vo5353DWFYQb",
        "outputId": "db6a8cbc-2445-4d3b-cb87-180c1b3b6017"
      },
      "execution_count": null,
      "outputs": [
        {
          "output_type": "stream",
          "name": "stdout",
          "text": [
            "(995.4215433125166, -4.578456687483367, -0.004578456687483367)\n",
            "AUDUSD_D1 0\n",
            "BTCUSD_D1 0\n",
            "ETHUSD_D1 0.1707432199013493\n",
            "EURUSD_D1 0\n",
            "GBPUSD_D1 0\n",
            "NZDUSD_D1 0\n",
            "USDCAD_D1 0\n",
            "USDCHF_D1 0\n",
            "USDJPY_D1 0.8292567800986493\n",
            "XAGUSD_D1 0\n",
            "XAUUSD_D1 0\n",
            "Risk 0.0229000260432247, Expected Profit: 0.08685768912848649\n"
          ]
        }
      ]
    }
  ]
}